{
 "cells": [
  {
   "cell_type": "markdown",
   "metadata": {},
   "source": [
    "# Soru 1"
   ]
  },
  {
   "cell_type": "markdown",
   "metadata": {},
   "source": [
    "Telefon Rehberindeki isimleri ve telefon numaralarını alınız. key kısmı isim value kısmı telefon numarası olsun. Ve bir kişin telefon numarasını yazdırınız."
   ]
  },
  {
   "cell_type": "code",
   "execution_count": null,
   "metadata": {},
   "outputs": [],
   "source": [
    "!pip install python-box"
   ]
  },
  {
   "cell_type": "code",
   "execution_count": 2,
   "metadata": {},
   "outputs": [],
   "source": [
    "from box import ConfigBox"
   ]
  },
  {
   "cell_type": "code",
   "execution_count": 3,
   "metadata": {},
   "outputs": [
    {
     "data": {
      "text/plain": [
       "'05564325424'"
      ]
     },
     "execution_count": 3,
     "metadata": {},
     "output_type": "execute_result"
    }
   ],
   "source": [
    "telefon_rehberim = ConfigBox({\n",
    "    'emre': '05564325424',\n",
    "    'gülay':'05635635632',\n",
    "    'deniz':'05536752456'\n",
    "})\n",
    "telefon_rehberim.emre"
   ]
  },
  {
   "cell_type": "markdown",
   "metadata": {},
   "source": [
    "# Soru 2:\n",
    "Bir sınıftaki öğrencilerin isimleri keys olarak alın ve 0-100 arasındaki aldığı puanları values olarak atayın. ve Sınıfın not ortalamasını hesaplayıp yazdırınız."
   ]
  },
  {
   "cell_type": "code",
   "execution_count": 5,
   "metadata": {},
   "outputs": [],
   "source": [
    "ogrenci_notlari:dict = ConfigBox({\n",
    "    'Ali':85,\n",
    "    'Veli':70,\n",
    "    'Ayşe':60,\n",
    "    'Fatma':92\n",
    "\n",
    "})"
   ]
  },
  {
   "cell_type": "code",
   "execution_count": 6,
   "metadata": {},
   "outputs": [
    {
     "name": "stdout",
     "output_type": "stream",
     "text": [
      "Sınıfın Not Ortalaması: 76.75\n"
     ]
    }
   ],
   "source": [
    "ortalama = sum(ogrenci_notlari.values()) / len(ogrenci_notlari)\n",
    "print(f\"Sınıfın Not Ortalaması: {ortalama}\")"
   ]
  },
  {
   "cell_type": "markdown",
   "metadata": {},
   "source": [
    "# Ürün Envanteri\n",
    "Bir mağzada bulunan stok miktarlarını ve fiyatlarını bir sözlük içinde tutun ve belirli bir ürünün fiyat bilgisine erişin."
   ]
  },
  {
   "cell_type": "code",
   "execution_count": 11,
   "metadata": {},
   "outputs": [],
   "source": [
    "urun_envanteri:dict = ConfigBox({\n",
    "    'laptop': {\"stok\":10, 'fiyat':15000.0},\n",
    "    \"telefon\": {'stok': 20, 'fiyat': 5000.0},\n",
    "    'Kulaklık': {'stok': 50, 'fiyat':600.0}\n",
    "})"
   ]
  },
  {
   "cell_type": "code",
   "execution_count": 12,
   "metadata": {},
   "outputs": [
    {
     "data": {
      "text/plain": [
       "15000.0"
      ]
     },
     "execution_count": 12,
     "metadata": {},
     "output_type": "execute_result"
    }
   ],
   "source": [
    "urun_envanteri.laptop.fiyat\n"
   ]
  },
  {
   "cell_type": "code",
   "execution_count": 13,
   "metadata": {},
   "outputs": [
    {
     "data": {
      "text/plain": [
       "5000.0"
      ]
     },
     "execution_count": 13,
     "metadata": {},
     "output_type": "execute_result"
    }
   ],
   "source": [
    "urun_envanteri['telefon']['fiyat']"
   ]
  },
  {
   "cell_type": "markdown",
   "metadata": {},
   "source": [
    "# Soru 4\n",
    "### Kullanıcı Profili Yönetimi\n",
    "Bir Uygulamada kullanıcı bilgileri saklamak ve yönetmek için sözlük kullanıyorsunuz.user2'nin yasadıgı sehiri baska bir sehir ile güncelleyin. Ve user1'in ismini mahmut olarak değiştirin."
   ]
  },
  {
   "cell_type": "code",
   "execution_count": 21,
   "metadata": {},
   "outputs": [],
   "source": [
    "kullanıcı_profilleri:dict =  ConfigBox({\n",
    "    \"user1\": {'isim':'Alper', 'Yas':34, 'sehir': 'İstanbul'},\n",
    "    \"user2\": {'isim':'Emre', 'Yas':23, 'sehir': 'Sivas'},\n",
    "    'user3':{'isim':'Kıvanc','Yas':33,'sehir': 'Tekirdag'}\n",
    "})"
   ]
  },
  {
   "cell_type": "code",
   "execution_count": 22,
   "metadata": {},
   "outputs": [],
   "source": [
    "kullanıcı_profilleri.user2.sehir = 'Giresun'"
   ]
  },
  {
   "cell_type": "code",
   "execution_count": 23,
   "metadata": {},
   "outputs": [
    {
     "data": {
      "text/plain": [
       "ConfigBox({'user1': {'isim': 'Alper', 'Yas': 34, 'sehir': 'İstanbul'}, 'user2': {'isim': 'Emre', 'Yas': 23, 'sehir': 'Giresun'}, 'user3': {'isim': 'Kıvanc', 'Yas': 33, 'sehir': 'Tekirdag'}})"
      ]
     },
     "execution_count": 23,
     "metadata": {},
     "output_type": "execute_result"
    }
   ],
   "source": [
    "kullanıcı_profilleri"
   ]
  },
  {
   "cell_type": "code",
   "execution_count": 24,
   "metadata": {},
   "outputs": [],
   "source": [
    "kullanıcı_profilleri.user1.update({'isim':'Mahmut'})"
   ]
  },
  {
   "cell_type": "code",
   "execution_count": 25,
   "metadata": {},
   "outputs": [
    {
     "data": {
      "text/plain": [
       "ConfigBox({'user1': {'isim': 'Mahmut', 'Yas': 34, 'sehir': 'İstanbul'}, 'user2': {'isim': 'Emre', 'Yas': 23, 'sehir': 'Giresun'}, 'user3': {'isim': 'Kıvanc', 'Yas': 33, 'sehir': 'Tekirdag'}})"
      ]
     },
     "execution_count": 25,
     "metadata": {},
     "output_type": "execute_result"
    }
   ],
   "source": [
    "kullanıcı_profilleri"
   ]
  },
  {
   "cell_type": "code",
   "execution_count": null,
   "metadata": {},
   "outputs": [],
   "source": []
  }
 ],
 "metadata": {
  "kernelspec": {
   "display_name": "Python 3",
   "language": "python",
   "name": "python3"
  },
  "language_info": {
   "codemirror_mode": {
    "name": "ipython",
    "version": 3
   },
   "file_extension": ".py",
   "mimetype": "text/x-python",
   "name": "python",
   "nbconvert_exporter": "python",
   "pygments_lexer": "ipython3",
   "version": "3.12.1"
  }
 },
 "nbformat": 4,
 "nbformat_minor": 2
}
