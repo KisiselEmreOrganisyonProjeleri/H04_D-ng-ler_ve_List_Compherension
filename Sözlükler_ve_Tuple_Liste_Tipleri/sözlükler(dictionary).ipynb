{
 "cells": [
  {
   "cell_type": "markdown",
   "metadata": {},
   "source": [
    "# Dictionary(Sözlük)"
   ]
  },
  {
   "cell_type": "markdown",
   "metadata": {},
   "source": [
    "Klasik Listelerde Organize edemediğimiz verileri Sözlük Liste tipi ile organize edebiliriz. Eğer Bir veriyi sembolize etmesi gereken bir field varsa bu durumda sözlük kullanılması gerektiği anlaşılmalıdır."
   ]
  },
  {
   "cell_type": "markdown",
   "metadata": {},
   "source": [
    "### Klasik liste ile Sözlüğü kıyaslayalım"
   ]
  },
  {
   "cell_type": "code",
   "execution_count": null,
   "metadata": {},
   "outputs": [],
   "source": [
    "student:list = ['Emre',False, False, 23, ['Traveling', 'Gym', 'Boxing']] # Veriyi organize etme manipule etme sıkıntıları mevcuttur"
   ]
  },
  {
   "cell_type": "code",
   "execution_count": 2,
   "metadata": {},
   "outputs": [],
   "source": [
    "# Dictionary Olarak Yazalım\n",
    "student:dict = {\n",
    "    \"isim\":'Emre',\n",
    "    \"Mezun_mu\":False,\n",
    "    'Evli_mi':False,\n",
    "    \"Yas\":23,\n",
    "    'Hobiler':['Travelling','Gym','Boxing']\n",
    "}\n"
   ]
  },
  {
   "cell_type": "markdown",
   "metadata": {},
   "source": [
    "### ! Klasik Liste ile Sözlükler Arasındaki En Büyük Fark Listeler'de Elemanlar index ile sembolize edilir. Sözlükte ise keys ile sembolize edilir."
   ]
  },
  {
   "cell_type": "markdown",
   "metadata": {},
   "source": [
    "# Yanlış Kullanım"
   ]
  },
  {
   "cell_type": "code",
   "execution_count": null,
   "metadata": {},
   "outputs": [
    {
     "ename": "KeyError",
     "evalue": "0",
     "output_type": "error",
     "traceback": [
      "\u001b[0;31m---------------------------------------------------------------------------\u001b[0m",
      "\u001b[0;31mKeyError\u001b[0m                                  Traceback (most recent call last)",
      "Cell \u001b[0;32mIn[3], line 1\u001b[0m\n\u001b[0;32m----> 1\u001b[0m \u001b[43mstudent\u001b[49m\u001b[43m[\u001b[49m\u001b[38;5;241;43m0\u001b[39;49m\u001b[43m]\u001b[49m\n",
      "\u001b[0;31mKeyError\u001b[0m: 0"
     ]
    }
   ],
   "source": [
    "student[0] # 0 diye bir key olmadığı için hata aldık"
   ]
  },
  {
   "cell_type": "code",
   "execution_count": 4,
   "metadata": {},
   "outputs": [
    {
     "ename": "KeyError",
     "evalue": "-1",
     "output_type": "error",
     "traceback": [
      "\u001b[0;31m---------------------------------------------------------------------------\u001b[0m",
      "\u001b[0;31mKeyError\u001b[0m                                  Traceback (most recent call last)",
      "Cell \u001b[0;32mIn[4], line 1\u001b[0m\n\u001b[0;32m----> 1\u001b[0m \u001b[43mstudent\u001b[49m\u001b[43m[\u001b[49m\u001b[38;5;241;43m-\u001b[39;49m\u001b[38;5;241;43m1\u001b[39;49m\u001b[43m]\u001b[49m\n",
      "\u001b[0;31mKeyError\u001b[0m: -1"
     ]
    }
   ],
   "source": [
    "student[-1]"
   ]
  },
  {
   "cell_type": "markdown",
   "metadata": {},
   "source": [
    "# Doğru Kullanım"
   ]
  },
  {
   "cell_type": "code",
   "execution_count": 5,
   "metadata": {},
   "outputs": [
    {
     "data": {
      "text/plain": [
       "'Emre'"
      ]
     },
     "execution_count": 5,
     "metadata": {},
     "output_type": "execute_result"
    }
   ],
   "source": [
    "student['isim']"
   ]
  },
  {
   "cell_type": "code",
   "execution_count": 7,
   "metadata": {},
   "outputs": [
    {
     "data": {
      "text/plain": [
       "['Travelling', 'Gym', 'Boxing']"
      ]
     },
     "execution_count": 7,
     "metadata": {},
     "output_type": "execute_result"
    }
   ],
   "source": [
    "student['Hobiler']"
   ]
  },
  {
   "cell_type": "markdown",
   "metadata": {},
   "source": [
    "# Sözlüklerde değerlere ulaşmada alternatif çözüm"
   ]
  },
  {
   "cell_type": "code",
   "execution_count": 9,
   "metadata": {},
   "outputs": [
    {
     "name": "stdout",
     "output_type": "stream",
     "text": [
      "Collecting python-box\n",
      "  Downloading python_box-7.3.2-cp312-cp312-manylinux_2_17_x86_64.manylinux2014_x86_64.whl.metadata (8.0 kB)\n",
      "Downloading python_box-7.3.2-cp312-cp312-manylinux_2_17_x86_64.manylinux2014_x86_64.whl (4.3 MB)\n",
      "\u001b[2K   \u001b[90m━━━━━━━━━━━━━━━━━━━━━━━━━━━━━━━━━━━━━━━━\u001b[0m \u001b[32m4.3/4.3 MB\u001b[0m \u001b[31m68.2 MB/s\u001b[0m eta \u001b[36m0:00:00\u001b[0m\n",
      "\u001b[?25hInstalling collected packages: python-box\n",
      "Successfully installed python-box-7.3.2\n",
      "\n",
      "\u001b[1m[\u001b[0m\u001b[34;49mnotice\u001b[0m\u001b[1;39;49m]\u001b[0m\u001b[39;49m A new release of pip is available: \u001b[0m\u001b[31;49m24.3.1\u001b[0m\u001b[39;49m -> \u001b[0m\u001b[32;49m25.0.1\u001b[0m\n",
      "\u001b[1m[\u001b[0m\u001b[34;49mnotice\u001b[0m\u001b[1;39;49m]\u001b[0m\u001b[39;49m To update, run: \u001b[0m\u001b[32;49mpython3 -m pip install --upgrade pip\u001b[0m\n"
     ]
    }
   ],
   "source": [
    "!pip install python-box"
   ]
  },
  {
   "cell_type": "code",
   "execution_count": 10,
   "metadata": {},
   "outputs": [],
   "source": [
    "from box import ConfigBox"
   ]
  },
  {
   "cell_type": "code",
   "execution_count": null,
   "metadata": {},
   "outputs": [
    {
     "ename": "AttributeError",
     "evalue": "'dict' object has no attribute 'isim'",
     "output_type": "error",
     "traceback": [
      "\u001b[0;31m---------------------------------------------------------------------------\u001b[0m",
      "\u001b[0;31mAttributeError\u001b[0m                            Traceback (most recent call last)",
      "Cell \u001b[0;32mIn[11], line 1\u001b[0m\n\u001b[0;32m----> 1\u001b[0m \u001b[43mstudent\u001b[49m\u001b[38;5;241;43m.\u001b[39;49m\u001b[43misim\u001b[49m\n",
      "\u001b[0;31mAttributeError\u001b[0m: 'dict' object has no attribute 'isim'"
     ]
    }
   ],
   "source": [
    "student.isim # normal şartlarda isim keyini bu şekilde kullanamayız."
   ]
  },
  {
   "cell_type": "code",
   "execution_count": 12,
   "metadata": {},
   "outputs": [],
   "source": [
    "student:dict = ConfigBox({\n",
    "    \"isim\":'Emre',\n",
    "    \"Mezun_mu\":False,\n",
    "    'Evli_mi':False,\n",
    "    \"Yas\":23,\n",
    "    'Hobiler':['Travelling','Gym','Boxing']\n",
    "})"
   ]
  },
  {
   "cell_type": "code",
   "execution_count": 13,
   "metadata": {},
   "outputs": [
    {
     "data": {
      "text/plain": [
       "'Emre'"
      ]
     },
     "execution_count": 13,
     "metadata": {},
     "output_type": "execute_result"
    }
   ],
   "source": [
    "student.isim"
   ]
  },
  {
   "cell_type": "code",
   "execution_count": 15,
   "metadata": {},
   "outputs": [
    {
     "name": "stdout",
     "output_type": "stream",
     "text": [
      "['Travelling', 'Gym', 'Boxing']\n"
     ]
    }
   ],
   "source": [
    "print(student.Hobiler)"
   ]
  },
  {
   "cell_type": "code",
   "execution_count": 16,
   "metadata": {},
   "outputs": [],
   "source": [
    "student:dict = {}\n",
    "student_config_box:dict = ConfigBox({})"
   ]
  },
  {
   "cell_type": "markdown",
   "metadata": {},
   "source": [
    "# Klasik Boş Sözlüğe Eleman Ekleme"
   ]
  },
  {
   "cell_type": "code",
   "execution_count": 18,
   "metadata": {},
   "outputs": [
    {
     "data": {
      "text/plain": [
       "{'isim': 'Emre',\n",
       " 'Mezun_mu': False,\n",
       " 'Evli_mi': False,\n",
       " 'Yas': 23,\n",
       " 'Hobiler': ['Travelling', 'Gym', 'Boxing']}"
      ]
     },
     "execution_count": 18,
     "metadata": {},
     "output_type": "execute_result"
    }
   ],
   "source": [
    "student['isim'] = 'Emre'\n",
    "student['Mezun_mu'] = False\n",
    "student['Evli_mi'] = False\n",
    "student['Yas'] = 23\n",
    "student['Hobiler'] = ['Travelling','Gym','Boxing']\n",
    "student"
   ]
  },
  {
   "cell_type": "markdown",
   "metadata": {},
   "source": [
    "# Config Boxlu Boş Sözlüğe Eleman Ekleme"
   ]
  },
  {
   "cell_type": "code",
   "execution_count": 20,
   "metadata": {},
   "outputs": [
    {
     "name": "stdout",
     "output_type": "stream",
     "text": [
      "{'isim': 'Emre', 'Mezun_mu': False, 'Evli_mi': False, 'Yas': 23, 'Hobiler': ['Travelling', 'Gym', 'Boxing']}\n"
     ]
    }
   ],
   "source": [
    "student_config_box.isim = 'Emre'\n",
    "student_config_box.Mezun_mu = False\n",
    "student_config_box.Evli_mi = False\n",
    "student_config_box.Yas = 23\n",
    "student_config_box.Hobiler = ['Travelling','Gym','Boxing']\n",
    "print(student_config_box)"
   ]
  },
  {
   "cell_type": "markdown",
   "metadata": {},
   "source": [
    "### ! Dictionary'de Keylerin Tipleri Varsayılan olarak otomatik stringdir."
   ]
  },
  {
   "cell_type": "markdown",
   "metadata": {},
   "source": [
    "varsayılan Haricinde keyslere tip belirtebilirsin ama bu kullanılmaz. Çünkü Anlamsız."
   ]
  },
  {
   "cell_type": "code",
   "execution_count": 21,
   "metadata": {},
   "outputs": [
    {
     "name": "stdout",
     "output_type": "stream",
     "text": [
      "{(0, 0): 'Origin', 1000: 'Bin', 3.141: 'Pi'}\n"
     ]
    }
   ],
   "source": [
    "mixed_dictionry:dict = {\n",
    "    (0,0): 'Origin',\n",
    "    1000: 'Bin',\n",
    "    3.141: 'Pi'\n",
    "}\n",
    "print(mixed_dictionry)"
   ]
  },
  {
   "cell_type": "markdown",
   "metadata": {},
   "source": [
    "# Dictionary Tipinde Veri Manüpülasyonu"
   ]
  },
  {
   "cell_type": "code",
   "execution_count": 22,
   "metadata": {},
   "outputs": [
    {
     "data": {
      "text/plain": [
       "{'isim': 'Emre',\n",
       " 'Mezun_mu': True,\n",
       " 'Evli_mi': True,\n",
       " 'Yas': 23,\n",
       " 'Hobiler': ['Çocuk Bakmak']}"
      ]
     },
     "execution_count": 22,
     "metadata": {},
     "output_type": "execute_result"
    }
   ],
   "source": [
    "student['Mezun_mu'] = True\n",
    "student['Evli_mi'] = True\n",
    "student['Hobiler'] = ['Çocuk Bakmak']\n",
    "student"
   ]
  },
  {
   "cell_type": "markdown",
   "metadata": {},
   "source": [
    "# ConfigBox() yapısında Sözlükte Veri Manüpülasyonu"
   ]
  },
  {
   "cell_type": "code",
   "execution_count": 23,
   "metadata": {},
   "outputs": [
    {
     "name": "stdout",
     "output_type": "stream",
     "text": [
      "{'isim': 'Emre', 'Mezun_mu': True, 'Evli_mi': False, 'Yas': 25, 'Hobiler': ['Travelling', 'Gym', 'Boxing']}\n"
     ]
    }
   ],
   "source": [
    "student_config_box.Yas = 25\n",
    "student_config_box.Mezun_mu = True\n",
    "print(student_config_box)"
   ]
  },
  {
   "cell_type": "markdown",
   "metadata": {},
   "source": [
    "# Sözlük Methodları"
   ]
  },
  {
   "cell_type": "markdown",
   "metadata": {},
   "source": [
    "Sözlük içerisinde keyleri sorgulayabiliriz. Var mı Yok mu diye"
   ]
  },
  {
   "cell_type": "code",
   "execution_count": 24,
   "metadata": {},
   "outputs": [
    {
     "name": "stdout",
     "output_type": "stream",
     "text": [
      "True\n"
     ]
    }
   ],
   "source": [
    "print('Yas' in student_config_box)"
   ]
  },
  {
   "cell_type": "code",
   "execution_count": 25,
   "metadata": {},
   "outputs": [
    {
     "name": "stdout",
     "output_type": "stream",
     "text": [
      "sac_rengi diye bir keys yoktur.\n"
     ]
    }
   ],
   "source": [
    "if 'sac_rengi' in student_config_box:\n",
    "    print(f\"öğrencinin Saç Rengi: {student_config_box.sac_rengi}\")\n",
    "else:\n",
    "    print(\"sac_rengi diye bir keys yoktur.\")"
   ]
  },
  {
   "cell_type": "markdown",
   "metadata": {},
   "source": [
    "These methods are:\n",
    "\n",
    "- dict.clear()\n",
    "- dict.copy()\n",
    "- dict.items()\n",
    "- dict.keys()\n",
    "- dict.pop()\n",
    "- dict.update()\n",
    "- dict.values()"
   ]
  },
  {
   "cell_type": "markdown",
   "metadata": {},
   "source": [
    "dict.clear() --> Sözlüğün içini temizler\n"
   ]
  },
  {
   "cell_type": "code",
   "execution_count": 26,
   "metadata": {},
   "outputs": [],
   "source": [
    "student.clear()"
   ]
  },
  {
   "cell_type": "code",
   "execution_count": 27,
   "metadata": {},
   "outputs": [
    {
     "data": {
      "text/plain": [
       "{}"
      ]
     },
     "execution_count": 27,
     "metadata": {},
     "output_type": "execute_result"
    }
   ],
   "source": [
    "student"
   ]
  },
  {
   "cell_type": "markdown",
   "metadata": {},
   "source": [
    "dict.copy() --> Sözlüğün kopyasını alır."
   ]
  },
  {
   "cell_type": "code",
   "execution_count": 28,
   "metadata": {},
   "outputs": [
    {
     "name": "stdout",
     "output_type": "stream",
     "text": [
      "Kopya Sözlük: {'isim': 'Emre', 'Mezun_mu': True, 'Evli_mi': False, 'Yas': 25, 'Hobiler': ['Travelling', 'Gym', 'Boxing'], 'sac_rengi': 'Siyah'}\n",
      "Orjinal Sözlük: {'isim': 'Emre', 'Mezun_mu': True, 'Evli_mi': False, 'Yas': 25, 'Hobiler': ['Travelling', 'Gym', 'Boxing']}\n"
     ]
    }
   ],
   "source": [
    "copy_dict:dict = student_config_box.copy()\n",
    "copy_dict.sac_rengi ='Siyah'\n",
    "print(f\"Kopya Sözlük: {copy_dict}\")\n",
    "print(f\"Orjinal Sözlük: {student_config_box}\")"
   ]
  },
  {
   "cell_type": "markdown",
   "metadata": {},
   "source": [
    "dict.items() sözlüğü listeye çevirir. "
   ]
  },
  {
   "cell_type": "code",
   "execution_count": 30,
   "metadata": {},
   "outputs": [
    {
     "name": "stdout",
     "output_type": "stream",
     "text": [
      "dict_items([('isim', 'Emre'), ('Mezun_mu', True), ('Evli_mi', False), ('Yas', 25), ('Hobiler', BoxList(['Travelling', 'Gym', 'Boxing']))])\n"
     ]
    }
   ],
   "source": [
    "print(student_config_box.items())"
   ]
  },
  {
   "cell_type": "markdown",
   "metadata": {},
   "source": [
    "# items() --> Arka Plan Mantığı"
   ]
  },
  {
   "cell_type": "code",
   "execution_count": 31,
   "metadata": {},
   "outputs": [],
   "source": [
    "# 0.index = ('isim', 'Emre')\n",
    "# 1.index = ('Mezun_mu', True)\n",
    "#......"
   ]
  },
  {
   "cell_type": "code",
   "execution_count": null,
   "metadata": {},
   "outputs": [
    {
     "name": "stdout",
     "output_type": "stream",
     "text": [
      "dict_keys(['isim', 'Mezun_mu', 'Evli_mi', 'Yas', 'Hobiler'])\n"
     ]
    }
   ],
   "source": [
    "print(student_config_box.keys()) #sadece keys'leri liste olarak alır."
   ]
  },
  {
   "cell_type": "code",
   "execution_count": 35,
   "metadata": {},
   "outputs": [
    {
     "name": "stdout",
     "output_type": "stream",
     "text": [
      "dict_values(['Emre', True, False, 25, BoxList(['Travelling', 'Gym', 'Boxing'])])\n"
     ]
    }
   ],
   "source": [
    "print(student_config_box.values())"
   ]
  },
  {
   "cell_type": "markdown",
   "metadata": {},
   "source": [
    "dict.update() değeri günceller."
   ]
  },
  {
   "cell_type": "code",
   "execution_count": 37,
   "metadata": {},
   "outputs": [],
   "source": [
    "student_config_box.update({'isim':'Yunus Emre'})"
   ]
  },
  {
   "cell_type": "code",
   "execution_count": 38,
   "metadata": {},
   "outputs": [
    {
     "data": {
      "text/plain": [
       "ConfigBox({'isim': 'Yunus Emre', 'Mezun_mu': True, 'Evli_mi': False, 'Yas': 25, 'Hobiler': ['Travelling', 'Gym', 'Boxing']})"
      ]
     },
     "execution_count": 38,
     "metadata": {},
     "output_type": "execute_result"
    }
   ],
   "source": [
    "student_config_box"
   ]
  },
  {
   "cell_type": "markdown",
   "metadata": {},
   "source": [
    "dict.pop() --> Eleman Çıkarıyor"
   ]
  },
  {
   "cell_type": "code",
   "execution_count": 41,
   "metadata": {},
   "outputs": [
    {
     "data": {
      "text/plain": [
       "False"
      ]
     },
     "execution_count": 41,
     "metadata": {},
     "output_type": "execute_result"
    }
   ],
   "source": [
    "student_config_box.pop('Evli_mi')"
   ]
  },
  {
   "cell_type": "code",
   "execution_count": 42,
   "metadata": {},
   "outputs": [
    {
     "data": {
      "text/plain": [
       "ConfigBox({'isim': 'Yunus Emre', 'Mezun_mu': True, 'Yas': 25, 'Hobiler': ['Travelling', 'Gym', 'Boxing']})"
      ]
     },
     "execution_count": 42,
     "metadata": {},
     "output_type": "execute_result"
    }
   ],
   "source": [
    "student_config_box"
   ]
  },
  {
   "cell_type": "markdown",
   "metadata": {},
   "source": [
    "dict.get() --> Sözlükteki value değerini bulmak için kullanılır."
   ]
  },
  {
   "cell_type": "markdown",
   "metadata": {},
   "source": []
  },
  {
   "cell_type": "code",
   "execution_count": null,
   "metadata": {},
   "outputs": [
    {
     "data": {
      "text/plain": [
       "'Yunus Emre'"
      ]
     },
     "execution_count": 43,
     "metadata": {},
     "output_type": "execute_result"
    }
   ],
   "source": [
    "student_config_box.get('isim')"
   ]
  },
  {
   "cell_type": "markdown",
   "metadata": {},
   "source": [
    "# Neden Get kullandım ve neden kullanmalıyım."
   ]
  },
  {
   "cell_type": "code",
   "execution_count": null,
   "metadata": {},
   "outputs": [
    {
     "data": {
      "text/plain": [
       "'Nasılsın'"
      ]
     },
     "execution_count": 48,
     "metadata": {},
     "output_type": "execute_result"
    }
   ],
   "source": [
    "'Naber Dünya'\n",
    "'Nasılsın'"
   ]
  },
  {
   "cell_type": "code",
   "execution_count": 51,
   "metadata": {},
   "outputs": [
    {
     "name": "stdout",
     "output_type": "stream",
     "text": [
      "naber dünya \n",
      " Nasılsın?"
     ]
    }
   ],
   "source": [
    "print('naber dünya','\\n','Nasılsın', end ='?')"
   ]
  },
  {
   "cell_type": "code",
   "execution_count": null,
   "metadata": {},
   "outputs": [],
   "source": []
  }
 ],
 "metadata": {
  "kernelspec": {
   "display_name": "Python 3",
   "language": "python",
   "name": "python3"
  },
  "language_info": {
   "codemirror_mode": {
    "name": "ipython",
    "version": 3
   },
   "file_extension": ".py",
   "mimetype": "text/x-python",
   "name": "python",
   "nbconvert_exporter": "python",
   "pygments_lexer": "ipython3",
   "version": "3.12.1"
  }
 },
 "nbformat": 4,
 "nbformat_minor": 2
}
