{
 "cells": [
  {
   "cell_type": "markdown",
   "metadata": {},
   "source": [
    "# Döngüler\n"
   ]
  },
  {
   "cell_type": "markdown",
   "metadata": {},
   "source": [
    "Döngüler bazı kodları yinelenebilir bir şekilde yazmanının efektif bir yoludur."
   ]
  },
  {
   "cell_type": "code",
   "execution_count": 2,
   "metadata": {},
   "outputs": [
    {
     "name": "stdout",
     "output_type": "stream",
     "text": [
      "İş 1\n",
      "İş 2\n",
      "iş 3\n"
     ]
    }
   ],
   "source": [
    "print('İş 1')\n",
    "print('İş 2')\n",
    "print('iş 3')\n",
    "#N"
   ]
  },
  {
   "cell_type": "code",
   "execution_count": null,
   "metadata": {},
   "outputs": [],
   "source": [
    "for i in range(0,10):\n",
    "    print(f\"İş: {i}\")"
   ]
  },
  {
   "cell_type": "markdown",
   "metadata": {},
   "source": [
    "iterable ifadeler --> Bir liste bir string gibi sadece **index** tutan tipler iterable(nesnelerdir).\n",
    "Bu ifadeler içerisine işlemler yapabilmek için döngüler kullanılır."
   ]
  },
  {
   "cell_type": "code",
   "execution_count": null,
   "metadata": {},
   "outputs": [
    {
     "name": "stdout",
     "output_type": "stream",
     "text": [
      "Merkür\n",
      "Venus\n"
     ]
    }
   ],
   "source": [
    "gezegenler = ['Merkür''Venus','Earth','Mars','Jupiter','Saturn','Uranus','Neptun']\n",
    "\n",
    "# Klasik Yöntem ile liste elemanları yazdırma\n",
    "print(gezegenler[0])\n",
    "print(gezegenler[1])"
   ]
  },
  {
   "cell_type": "markdown",
   "metadata": {},
   "source": [
    "gezegen değişkeni listeden ilk indexe eşlenir eğer in keywordu o ilk indexde bir değer Görüp True dönerse döngü için bloğa girilir.\n"
   ]
  },
  {
   "cell_type": "code",
   "execution_count": 6,
   "metadata": {},
   "outputs": [
    {
     "name": "stdout",
     "output_type": "stream",
     "text": [
      "Merkür Venus Earth Mars Jupiter Saturn Uranus Neptun "
     ]
    }
   ],
   "source": [
    "# Döngü ile elemanları yazdırma\n",
    "for gezegen in gezegenler:\n",
    "    print(gezegen, end = \" \")"
   ]
  },
  {
   "cell_type": "code",
   "execution_count": 9,
   "metadata": {},
   "outputs": [
    {
     "name": "stdout",
     "output_type": "stream",
     "text": [
      "360\n"
     ]
    }
   ],
   "source": [
    "carpanlar = (2,2,2,3,3,5)\n",
    "carpim_sonuc = 1\n",
    "for carpan in carpanlar:\n",
    "    carpim_sonuc = carpan * carpim_sonuc\n",
    "print(carpim_sonuc)"
   ]
  },
  {
   "cell_type": "code",
   "execution_count": 12,
   "metadata": {},
   "outputs": [
    {
     "data": {
      "text/plain": [
       "<function str.index>"
      ]
     },
     "execution_count": 12,
     "metadata": {},
     "output_type": "execute_result"
    }
   ],
   "source": [
    "string = 'emre'\n",
    "string.index"
   ]
  },
  {
   "cell_type": "code",
   "execution_count": 13,
   "metadata": {},
   "outputs": [],
   "source": [
    "s = 'steganograpHy is the practicE of conceaLing a file, message, image, or video within another fiLe, message, image, Or video.'"
   ]
  },
  {
   "cell_type": "code",
   "execution_count": 14,
   "metadata": {},
   "outputs": [
    {
     "name": "stdout",
     "output_type": "stream",
     "text": [
      "HELLO"
     ]
    }
   ],
   "source": [
    "msg = \"\"\n",
    "for karakter in s:\n",
    "    if karakter.isupper():\n",
    "        print(karakter, end=\"\")"
   ]
  },
  {
   "cell_type": "markdown",
   "metadata": {},
   "source": [
    "### range"
   ]
  },
  {
   "cell_type": "markdown",
   "metadata": {},
   "source": [
    "Her zaman elinde iterable bir yapı olmak zorunda değil. Bu durumda döngü başlatabilmek için sayı doğrusu gerekiyor range() fonksiyonu bu sayı doğrusunu getirdir."
   ]
  },
  {
   "cell_type": "code",
   "execution_count": null,
   "metadata": {},
   "outputs": [],
   "source": [
    "for i in range(10): # range(0,10,1) 0'dan başladı 10'a kadar gitti 10 dahil değil 1'er 1'er ilerledi\n",
    "    print(f\"{i}'inci adım önemli bir iştir.\")"
   ]
  },
  {
   "cell_type": "code",
   "execution_count": 17,
   "metadata": {},
   "outputs": [
    {
     "name": "stdout",
     "output_type": "stream",
     "text": [
      "Ahmet\n"
     ]
    }
   ],
   "source": [
    "isim = ['emre','Ahmet','Mustafa']\n",
    "for index in range(len(isim)): # 0,1,2\n",
    "    if isim[index] == 'Ahmet':\n",
    "        print(isim[index])"
   ]
  },
  {
   "cell_type": "code",
   "execution_count": null,
   "metadata": {},
   "outputs": [
    {
     "name": "stdout",
     "output_type": "stream",
     "text": [
      "1 3 5 7 9 "
     ]
    }
   ],
   "source": [
    "sayilar = [1,2,3,4,5,6,7,8,9]\n",
    "for i in range(0,len(sayilar),2):\n",
    "    print(sayilar[i], end = ' ')"
   ]
  },
  {
   "cell_type": "markdown",
   "metadata": {},
   "source": [
    "# While Döngüsü"
   ]
  },
  {
   "cell_type": "markdown",
   "metadata": {},
   "source": [
    "while döngüsü belirlenen şartın True olarak sağlandığı sürece devam eden işlemler için kullanılır. False olarak döndüğü vakit döngü bitirilir."
   ]
  },
  {
   "cell_type": "code",
   "execution_count": 23,
   "metadata": {},
   "outputs": [
    {
     "name": "stdout",
     "output_type": "stream",
     "text": [
      "0 1 2 3 4 5 6 7 8 9 "
     ]
    }
   ],
   "source": [
    "i = 0\n",
    "while i < 10:\n",
    "    print(i, end = \" \")\n",
    "    i += 1 # i = i + 1"
   ]
  },
  {
   "cell_type": "code",
   "execution_count": 24,
   "metadata": {},
   "outputs": [],
   "source": [
    "# Break - Continue"
   ]
  },
  {
   "cell_type": "code",
   "execution_count": 25,
   "metadata": {},
   "outputs": [
    {
     "name": "stdout",
     "output_type": "stream",
     "text": [
      "0 1 2 3 4 5 "
     ]
    }
   ],
   "source": [
    "i = 0\n",
    "while i < 10:\n",
    "    print(i, end = \" \")\n",
    "    if i == 5:\n",
    "        break # --> Döngüden zorla çık anlamına gelir\n",
    "    i += 1 # i = i + 1"
   ]
  },
  {
   "cell_type": "code",
   "execution_count": null,
   "metadata": {},
   "outputs": [
    {
     "name": "stdout",
     "output_type": "stream",
     "text": [
      "0 1 2 3 4 6 7 8 9 10 "
     ]
    }
   ],
   "source": [
    "i = -1\n",
    "while i < 10:\n",
    "    i += 1 # i = i + 1\n",
    "    if i == 5:\n",
    "        continue # --> Döngüde bir sonraki adıma atlamak için kullanılır\n",
    "    print(i, end = \" \")\n",
    "    \n",
    "    "
   ]
  },
  {
   "cell_type": "markdown",
   "metadata": {},
   "source": [
    "# List Compherension (Liste Uyumlu İşlemler)"
   ]
  },
  {
   "cell_type": "markdown",
   "metadata": {},
   "source": [
    "List Compherension Python'da en çok kullanılan ve özel özelliklere sahip yapısıdır. En kolay yoldan anlamak için örnekleri inceleyelim."
   ]
  },
  {
   "cell_type": "code",
   "execution_count": null,
   "metadata": {},
   "outputs": [
    {
     "name": "stdout",
     "output_type": "stream",
     "text": [
      "[0, 1, 4, 9, 16, 25, 36, 49, 64, 81]\n"
     ]
    }
   ],
   "source": [
    "kareler:list = []\n",
    "for n in range(10):\n",
    "    kareler.append(n ** 2) # Esxtra 10 adet append methodunu çalıştırdık\n",
    "print(kareler)"
   ]
  },
  {
   "cell_type": "code",
   "execution_count": null,
   "metadata": {},
   "outputs": [
    {
     "data": {
      "text/plain": [
       "[0, 1, 4, 9, 16, 25, 36, 49, 64, 81]"
      ]
     },
     "execution_count": 33,
     "metadata": {},
     "output_type": "execute_result"
    }
   ],
   "source": [
    "# List Compherension\n",
    "kareler:list = [\n",
    "    n ** 2\n",
    "    for n in range(10)\n",
    "]\n",
    "print(kareler)"
   ]
  },
  {
   "cell_type": "markdown",
   "metadata": {},
   "source": [
    "# List Compherension Ne Zaman Kullanılmıdır."
   ]
  },
  {
   "cell_type": "markdown",
   "metadata": {},
   "source": [
    "Eğer liste içerisinde manipilasyon işlemleri gerçekleştirelecekse veya liste içerisinden bir işlem yapılıp sonuç çıkarılacaksa list compherension kullanabilirsin."
   ]
  },
  {
   "cell_type": "markdown",
   "metadata": {},
   "source": [
    "# List Compherension Ne Zaman Kullanılmaz"
   ]
  },
  {
   "cell_type": "markdown",
   "metadata": {},
   "source": [
    "Eğer Liste içerisinde yapmak istediğin işlem 2'den koşul içeriyorsa ve iç içe döngüler kullanılmak zorundaysa list compherension kullanılmaz çünkü esnekliği buna yeterli deği."
   ]
  },
  {
   "cell_type": "code",
   "execution_count": 34,
   "metadata": {},
   "outputs": [
    {
     "name": "stdout",
     "output_type": "stream",
     "text": [
      "['Earth', 'Mars']\n"
     ]
    }
   ],
   "source": [
    "gezegenler = ['Merkür''Venus','Earth','Mars','Jupiter','Saturn','Uranus','Neptun']\n",
    "kısa_gezegenler:list = [\n",
    "    gezegen\n",
    "    for gezegen in gezegenler\n",
    "    if len(gezegen) < 6\n",
    "]\n",
    "print(kısa_gezegenler)"
   ]
  },
  {
   "cell_type": "code",
   "execution_count": 37,
   "metadata": {},
   "outputs": [
    {
     "name": "stdout",
     "output_type": "stream",
     "text": [
      "['Jupiter', 'Saturn', 'Uranus', 'Neptun']\n"
     ]
    }
   ],
   "source": [
    "gezegenler = ['Merkür''Venus','Earth','Mars','Jupiter','Saturn','Uranus','Neptun']\n",
    "kısa_orta_gezegenler = [\n",
    "    gezegen\n",
    "    for gezegen in gezegenler\n",
    "    if len(gezegen) >= 6 and len(gezegen) < 10\n",
    "]\n",
    "print(kısa_orta_gezegenler)"
   ]
  },
  {
   "cell_type": "code",
   "execution_count": 41,
   "metadata": {},
   "outputs": [
    {
     "name": "stdout",
     "output_type": "stream",
     "text": [
      "['JUPITER!!!', 'SATURN!!!', 'URANUS!!!', 'NEPTUN!!!']\n"
     ]
    }
   ],
   "source": [
    "gezegenler = ['Merkür''Venus','Earth','Mars','Jupiter','Saturn','Uranus','Neptun']\n",
    "kısa_orta_gezegenler_büyük = [\n",
    "    gezegen.upper() + \"!!!\"\n",
    "    for gezegen in gezegenler\n",
    "    if len(gezegen) >= 6 and len(gezegen) < 10\n",
    "]\n",
    "print(kısa_orta_gezegenler_büyük)"
   ]
  },
  {
   "cell_type": "code",
   "execution_count": 42,
   "metadata": {},
   "outputs": [
    {
     "name": "stdout",
     "output_type": "stream",
     "text": [
      "['Emre', 'Süleyman', 'Kadi̇r', 'Kürşat']\n"
     ]
    }
   ],
   "source": [
    "isimler = ['EMRE',\"SÜLEYMAN\",'KADİR','KÜRŞAT']\n",
    "isimler_fixed = [\n",
    "    isim.lower().capitalize()\n",
    "    for isim in isimler\n",
    "]\n",
    "print(isimler_fixed)"
   ]
  },
  {
   "cell_type": "code",
   "execution_count": 43,
   "metadata": {},
   "outputs": [
    {
     "name": "stdout",
     "output_type": "stream",
     "text": [
      "[True, True, False, False, False, True, False, True, False]\n"
     ]
    }
   ],
   "source": [
    "stok_verileri = [15,10,0,6,4,7,5,9,5]\n",
    "stok_durum = [\n",
    "    True\n",
    "    if stok_seviye >= 7\n",
    "    else False\n",
    "    for stok_seviye in stok_verileri\n",
    "]\n",
    "print(stok_durum)"
   ]
  },
  {
   "cell_type": "markdown",
   "metadata": {},
   "source": [
    "List Compherension min, max,sum, any, gibi liste methodları mevcuttur. List compherension ile birlikte bu methodları kullanrak list compehrension çıktısı olarak integer ya da float tipinde değerler alabiliriz."
   ]
  },
  {
   "cell_type": "code",
   "execution_count": 44,
   "metadata": {},
   "outputs": [],
   "source": [
    "def countNegatives(nums:list):\n",
    "    \"\"\"\n",
    "    Verilen listedeki negatif sayıları sayan bir fonksiyon\n",
    "    nums -> sayı listesi\n",
    "    \"\"\"\n",
    "    return len([\n",
    "        num\n",
    "        for num in nums\n",
    "        if num < 0\n",
    "    ])"
   ]
  },
  {
   "cell_type": "code",
   "execution_count": 45,
   "metadata": {},
   "outputs": [
    {
     "data": {
      "text/plain": [
       "2"
      ]
     },
     "execution_count": 45,
     "metadata": {},
     "output_type": "execute_result"
    }
   ],
   "source": [
    "countNegatives([5,-1,-2,0,3])"
   ]
  },
  {
   "cell_type": "code",
   "execution_count": 48,
   "metadata": {},
   "outputs": [],
   "source": [
    "def countNegatives(nums:list):\n",
    "    \"\"\"\n",
    "    Verilen listedeki negatif sayıları sayan bir fonksiyon\n",
    "    nums -> sayı listesi\n",
    "    \"\"\"\n",
    "    return sum([\n",
    "        num < 0 # True ise 1 False ise 0\n",
    "        for num in nums\n",
    "    ])"
   ]
  },
  {
   "cell_type": "code",
   "execution_count": 49,
   "metadata": {},
   "outputs": [
    {
     "data": {
      "text/plain": [
       "2"
      ]
     },
     "execution_count": 49,
     "metadata": {},
     "output_type": "execute_result"
    }
   ],
   "source": [
    "countNegatives([5,-1,-2,0,3])"
   ]
  },
  {
   "cell_type": "markdown",
   "metadata": {},
   "source": [
    "Güzel çirkinden daha iyidir.\n",
    "Açık, örtülü olmaktan daha iyidir.\n",
    "Basit, karmaşıktan daha iyidir.\n",
    "Karmaşık, karmaşıktan daha iyidir.\n",
    "Düz, iç içe olmaktan daha iyidir.\n",
    "Seyrek, yoğundan iyidir.\n",
    "Okunabilirlik önemlidir.\n",
    "Özel durumlar kuralları çiğneyecek kadar özel değildir.\n",
    "Her ne kadar pratiklik saflığı yense de.\n",
    "Hatalar asla sessizce geçmemelidir.\n",
    "Açıkça susturulmadığı sürece.\n",
    "Belirsizlik karşısında tahmin yürütme isteğini reddedin.\n",
    "Bunu yapmanın tek ve tercihen yalnızca tek bir açık yolu olmalıdır.[c]\n",
    "Ancak Hollandalı olmadığınız sürece bu ilk başta bariz olmayabilir.\n",
    "Şimdi hiç olmamasından iyidir.\n",
    "Her ne kadar hiçbir zaman şu andan daha iyi olmasa da.[d]\n",
    "Uygulamanın açıklanması zorsa, bu kötü bir fikirdir.\n",
    "Uygulamanın açıklanması kolaysa iyi bir fikir olabilir."
   ]
  },
  {
   "cell_type": "code",
   "execution_count": null,
   "metadata": {},
   "outputs": [],
   "source": []
  },
  {
   "cell_type": "markdown",
   "metadata": {},
   "source": []
  },
  {
   "cell_type": "markdown",
   "metadata": {},
   "source": []
  }
 ],
 "metadata": {
  "kernelspec": {
   "display_name": "Python 3",
   "language": "python",
   "name": "python3"
  },
  "language_info": {
   "codemirror_mode": {
    "name": "ipython",
    "version": 3
   },
   "file_extension": ".py",
   "mimetype": "text/x-python",
   "name": "python",
   "nbconvert_exporter": "python",
   "pygments_lexer": "ipython3",
   "version": "3.12.1"
  }
 },
 "nbformat": 4,
 "nbformat_minor": 2
}
