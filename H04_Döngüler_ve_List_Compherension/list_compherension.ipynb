{
 "cells": [
  {
   "cell_type": "markdown",
   "metadata": {},
   "source": [
    "# Soru 1"
   ]
  },
  {
   "cell_type": "markdown",
   "metadata": {},
   "source": [
    "Aşağıdaki kodun bug'ını bulun ve çözmeye çalışın"
   ]
  },
  {
   "cell_type": "code",
   "execution_count": 5,
   "metadata": {},
   "outputs": [],
   "source": [
    "def hasLuckyNumber(nums:list):\n",
    "    \"\"\"\n",
    "    Verilmiş herhangi bir listenin şanslı sayılarını bulmaya çalışır. Bu fonksiyon için şanslı sayımzın kriteri 7 ile tam bölünebilmidr.\n",
    "    \"\"\"\n",
    "    for num in nums:\n",
    "        if num % 7 == 0:\n",
    "            return True\n",
    "    return False"
   ]
  },
  {
   "cell_type": "code",
   "execution_count": 6,
   "metadata": {},
   "outputs": [
    {
     "data": {
      "text/plain": [
       "True"
      ]
     },
     "execution_count": 6,
     "metadata": {},
     "output_type": "execute_result"
    }
   ],
   "source": [
    "liste = hasLuckyNumber([8,34,49,25])\n",
    "liste"
   ]
  },
  {
   "cell_type": "code",
   "execution_count": 7,
   "metadata": {},
   "outputs": [
    {
     "data": {
      "text/plain": [
       "True"
      ]
     },
     "execution_count": 7,
     "metadata": {},
     "output_type": "execute_result"
    }
   ],
   "source": [
    "any([False, False, True, False])"
   ]
  },
  {
   "cell_type": "code",
   "execution_count": 8,
   "metadata": {},
   "outputs": [
    {
     "data": {
      "text/plain": [
       "False"
      ]
     },
     "execution_count": 8,
     "metadata": {},
     "output_type": "execute_result"
    }
   ],
   "source": [
    "any([False, False, False])"
   ]
  },
  {
   "cell_type": "markdown",
   "metadata": {},
   "source": [
    "# Soru 2\n",
    "Verilmiş herhangi bir listenin şanslı sayılarını bulmaya çalışın. Bu fonksiyon için şanslı sayımzın kriteri 7 ile tam bölünebilmidr. Bu işlemi list compherension kullanarak yapınız."
   ]
  },
  {
   "cell_type": "code",
   "execution_count": 9,
   "metadata": {},
   "outputs": [],
   "source": [
    "def hasLuckyNumber(nums):\n",
    "    \"\"\"\n",
    "    Verilmiş herhangi bir listenin şanslı sayılarını bulmaya çalışır. Bu fonksiyon için şanslı sayımzın kriteri 7 ile tam bölünebilmidr.\n",
    "\n",
    "    \"\"\"\n",
    "    return any([\n",
    "        num % 7 == 0\n",
    "        for num in nums\n",
    "    ])"
   ]
  },
  {
   "cell_type": "code",
   "execution_count": 10,
   "metadata": {},
   "outputs": [
    {
     "data": {
      "text/plain": [
       "True"
      ]
     },
     "execution_count": 10,
     "metadata": {},
     "output_type": "execute_result"
    }
   ],
   "source": [
    "liste = hasLuckyNumber([8,34,49,25])\n",
    "liste"
   ]
  },
  {
   "cell_type": "markdown",
   "metadata": {},
   "source": [
    "# Soru 3\n",
    "bu bize Boolean tipinde [False, False, True, True] olarak bir çıktı vericektir.\n",
    "Şimdi bunu ilk başta kütüphanesiz bir şekilde fonksiyon ile yapınız.\n",
    "\n",
    "bunu list compheresion yöntemini kullanarak fonksiyon içinden yeniden çözün"
   ]
  },
  {
   "cell_type": "code",
   "execution_count": 13,
   "metadata": {},
   "outputs": [],
   "source": [
    "def elementwiseGreaterThan(L:list, thresh:int):\n",
    "    \"\"\"\n",
    "    L parametresinin Değeri olan liste elemanları eğer\n",
    "    thresh parametresinde verilen değerden büyükse True küçükse False Değer Döndürücek.\n",
    "    \n",
    "    >>>elementwiseGreaterThan([1,2,3,4], 2)\n",
    "    [False, False, True, True]\n",
    "    \"\"\"\n",
    "    return [\n",
    "        num > thresh\n",
    "        for num in L\n",
    "    ]"
   ]
  },
  {
   "cell_type": "code",
   "execution_count": 14,
   "metadata": {},
   "outputs": [
    {
     "data": {
      "text/plain": [
       "[False, False, True, True]"
      ]
     },
     "execution_count": 14,
     "metadata": {},
     "output_type": "execute_result"
    }
   ],
   "source": [
    "elementwiseGreaterThan([1,2,3,4],2)"
   ]
  },
  {
   "cell_type": "markdown",
   "metadata": {},
   "source": []
  },
  {
   "cell_type": "markdown",
   "metadata": {},
   "source": []
  },
  {
   "cell_type": "markdown",
   "metadata": {},
   "source": [
    "Fonksiyon İçersinde verilmiş olan docstringe göre fonksiyonu tamamlayınız. \n",
    "\n",
    "        *İlk başta geleneksel yöntem ile çözünüz.\n",
    "        *Sonra list compheresion kullanarak çözünüz.\n",
    "*İpucu*\n",
    "\n",
    "Bu, listenin kendi öğeleri üzerinde yineleme yapmak yerine listenin indeksleri üzerinde yineleme yapmanın (range() çağrısı kullanarak) tercih edilebileceği bir durumdur. Listeye indekslerken \"sondan düşmediğinize\" (yani var olmayan bir indeks kullanmadığınıza) dikkat edin."
   ]
  },
  {
   "cell_type": "code",
   "execution_count": 17,
   "metadata": {},
   "outputs": [],
   "source": [
    "def menuIsBoring(meals:list[str]):\n",
    "    \"\"\"\n",
    "    Belirli bir süre boyunca servis edilen yemeklerin listesinin verildiğini düşünün.\n",
    "    Eğer aynı yemek art arda iki gün servis edilirse True Değer Döndürceksiniz. Eğer iki gün üst üste\n",
    "    farklı yemek servis edilirse False değer döndüreceksiniz.\n",
    "    \"\"\"\n",
    "    return any([\n",
    "        meals[i] == meals[i+1]\n",
    "        for i in range(0,len(meals)-1)\n",
    "    ])"
   ]
  },
  {
   "cell_type": "code",
   "execution_count": 18,
   "metadata": {},
   "outputs": [
    {
     "data": {
      "text/plain": [
       "True"
      ]
     },
     "execution_count": 18,
     "metadata": {},
     "output_type": "execute_result"
    }
   ],
   "source": [
    "menuIsBoring(['Köfte','Köfte','Lahmacun'])"
   ]
  },
  {
   "cell_type": "markdown",
   "metadata": {},
   "source": []
  }
 ],
 "metadata": {
  "kernelspec": {
   "display_name": "Python 3",
   "language": "python",
   "name": "python3"
  },
  "language_info": {
   "codemirror_mode": {
    "name": "ipython",
    "version": 3
   },
   "file_extension": ".py",
   "mimetype": "text/x-python",
   "name": "python",
   "nbconvert_exporter": "python",
   "pygments_lexer": "ipython3",
   "version": "3.12.1"
  }
 },
 "nbformat": 4,
 "nbformat_minor": 2
}
